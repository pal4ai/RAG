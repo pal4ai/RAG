{
 "cells": [
  {
   "cell_type": "markdown",
   "metadata": {},
   "source": [
    "# Notebook for building RAG pipeline using LLMs"
   ]
  },
  {
   "cell_type": "markdown",
   "metadata": {},
   "source": [
    "### This notebook covers:\n",
    "    - RAG QA pipeline using LLMs\n",
    "    - Dataset - latest articles on similar topic - Christopher nolan movies\n",
    "    "
   ]
  },
  {
   "cell_type": "markdown",
   "metadata": {},
   "source": [
    "### 0. Required Installations\n",
    "#### pip install langchain\n",
    "#### pip install 'langchain[llms]' (for mac)\n",
    "#### pip install tiktoken  - openAi tokenizer\n",
    "#### export OPENAI_API_KEY=\"\""
   ]
  },
  {
   "cell_type": "markdown",
   "metadata": {},
   "source": [
    "## 0. Installations"
   ]
  },
  {
   "cell_type": "markdown",
   "metadata": {},
   "source": [
    "### Import python packages"
   ]
  },
  {
   "cell_type": "code",
   "execution_count": 28,
   "metadata": {},
   "outputs": [],
   "source": [
    "from langchain.document_loaders import PyPDFLoader\n",
    "from langchain.vectorstores import FAISS\n",
    "from langchain.embeddings import OpenAIEmbeddings\n",
    "from langchain.chat_models import ChatOpenAI\n",
    "from langchain.prompts import PromptTemplate\n",
    "from pathlib import Path"
   ]
  },
  {
   "cell_type": "markdown",
   "metadata": {},
   "source": []
  },
  {
   "cell_type": "markdown",
   "metadata": {},
   "source": [
    "## 1. DATA LOAD"
   ]
  },
  {
   "cell_type": "markdown",
   "metadata": {},
   "source": [
    "### Load PDF data and Convert it using Pymupdf Library from Lang Chain"
   ]
  },
  {
   "cell_type": "markdown",
   "metadata": {},
   "source": [
    "- PyMuPDFLoader RETURNS ONE DOCUMENT PER PAGE\n",
    "- PyPDF- Load PDF using pypdf into array of documents, where each document contains the page content and metadata with page number.\n",
    "- Refer : https://python.langchain.com/docs/modules/data_connection/document_loaders/pdf"
   ]
  },
  {
   "cell_type": "markdown",
   "metadata": {},
   "source": [
    "### Function to read PDF input"
   ]
  },
  {
   "cell_type": "code",
   "execution_count": 29,
   "metadata": {},
   "outputs": [],
   "source": [
    "def read_pdf_input(file_path):\n",
    "    pdf_search = Path(file_path).glob(\"*.pdf\")\n",
    "    pdf_files  = [str(file.absolute()) for file in pdf_search]\n",
    "    print('Total PDF files',len(pdf_files))\n",
    "    pages = []\n",
    "    for pdf in pdf_files:\n",
    "        loader = PyPDFLoader(pdf)\n",
    "        pages.extend(loader.load_and_split())\n",
    "    return pages"
   ]
  },
  {
   "cell_type": "code",
   "execution_count": 42,
   "metadata": {},
   "outputs": [
    {
     "name": "stdout",
     "output_type": "stream",
     "text": [
      "Total PDF files 5\n",
      "Length of pages 82\n"
     ]
    }
   ],
   "source": [
    "file_path='<enter your file path>'\n",
    "pages = read_pdf_input(file_path)\n",
    "print('Length of pages', len(pages))"
   ]
  },
  {
   "cell_type": "markdown",
   "metadata": {},
   "source": [
    "## 2. DATA STORE"
   ]
  },
  {
   "cell_type": "markdown",
   "metadata": {},
   "source": [
    "###  Embed the documents"
   ]
  },
  {
   "cell_type": "code",
   "execution_count": 32,
   "metadata": {},
   "outputs": [],
   "source": [
    "\n",
    "embeddings_model = OpenAIEmbeddings(openai_api_key=\"<enter open ai key>\")"
   ]
  },
  {
   "cell_type": "markdown",
   "metadata": {},
   "source": [
    "### Vector Store : FAISS "
   ]
  },
  {
   "cell_type": "code",
   "execution_count": 34,
   "metadata": {},
   "outputs": [],
   "source": [
    "db = FAISS.from_documents(pages, embeddings_model)"
   ]
  },
  {
   "cell_type": "markdown",
   "metadata": {},
   "source": [
    "## 3. RETRIEVER"
   ]
  },
  {
   "cell_type": "code",
   "execution_count": 35,
   "metadata": {},
   "outputs": [],
   "source": [
    "retriever = db.as_retriever()\n",
    "#retriever = db.as_retriever(search_type=\"mmr\")\n",
    "#retriever = db.as_retriever(search_type=\"similarity_score_threshold\", search_kwargs={\"score_threshold\": .5})"
   ]
  },
  {
   "cell_type": "markdown",
   "metadata": {},
   "source": [
    "- retriever = db.as_retriever(search_kwargs={\"k\": 1}) -> For retrieving top k=1 results\n",
    "- retriever = db.as_retriever(search_type=\"similarity_score_threshold\", search_kwargs={\"score_threshold\": .5}) -> For returning greater than 0.5 similarity score\n",
    "\n",
    "\n"
   ]
  },
  {
   "cell_type": "markdown",
   "metadata": {},
   "source": [
    "## 4. QA"
   ]
  },
  {
   "cell_type": "markdown",
   "metadata": {},
   "source": [
    "### Prompt tuning"
   ]
  },
  {
   "cell_type": "code",
   "execution_count": 36,
   "metadata": {},
   "outputs": [],
   "source": [
    "reader_template = \"\"\"As a Question answering assitant, generate an answer to the input question using the context provided.\n",
    "Follow the below guidelines while answering the question.\n",
    "- Use the context to answer the question. Do not answer out of the context available.\n",
    "- Be concise and clear in your language.\n",
    "- If you do not know the answer just say you - \"Sorry, I do not know this!\"\n",
    "Use the context: {context} for the question: {question} to generate the answer.\n",
    "Helpful Answer:\"\"\""
   ]
  },
  {
   "cell_type": "code",
   "execution_count": 37,
   "metadata": {},
   "outputs": [],
   "source": [
    "from langchain import PromptTemplate, OpenAI, LLMChain\n",
    "llm = ChatOpenAI(model_name=\"gpt-3.5-turbo\", temperature=0,openai_api_key=\"<enter open ai key>\")\n"
   ]
  },
  {
   "cell_type": "code",
   "execution_count": 38,
   "metadata": {},
   "outputs": [],
   "source": [
    "def qa_reader(ques, llm, reader_template,retriever):\n",
    "    \n",
    "    #1. Generate the prompt using prompt template\n",
    "    reader_prompt = PromptTemplate(template=reader_template, input_variables=[\"context\", \"question\"])\n",
    "    \n",
    "    #2. Use LLM chain to create llm instance with the llm model and the prompt\n",
    "    llm_chain = LLMChain(prompt=reader_prompt, llm=llm)\n",
    "    \n",
    "    #3. Retrieve relevant documents from the retriever for the input query\n",
    "    docs= retriever.get_relevant_documents(ques)\n",
    "    \n",
    "    #4. Pass the retrieved documents as the context and the input query to the LLM Chain created in step 2\n",
    "    result = llm_chain.predict(context=docs, question=ques)\n",
    "    \n",
    "    #5. Return the output generated by the LLM\n",
    "    return result\n",
    "    "
   ]
  },
  {
   "cell_type": "markdown",
   "metadata": {},
   "source": [
    "## Success Cases"
   ]
  },
  {
   "cell_type": "code",
   "execution_count": 39,
   "metadata": {},
   "outputs": [
    {
     "name": "stdout",
     "output_type": "stream",
     "text": [
      "---------------- Answer from Reader ----------------\n",
      "Question:  Who is Christopher Nolan?\n",
      "Answer:  Christopher Nolan is a British film director and writer known for his noirish visual aesthetic and unconventional narratives. He gained recognition with his film \"Memento\" in 2000 and achieved further success with \"Batman Begins\" in 2005. Nolan's works often focus on realistic and gritty portrayals of characters and settings.\n",
      "\n",
      "\n",
      "Question:  What are some of Nolan's best movies?\n",
      "Answer:  Some of Christopher Nolan's best movies include The Dark Knight, Memento, and Inception.\n",
      "\n",
      "\n",
      "Question:  What actors has he worked with?\n",
      "Answer:  Christopher Nolan has worked with actors such as Leonardo DiCaprio, Joseph Gordon-Levitt, Matthew McConaughey, Heath Ledger, and Cillian Murphy.\n",
      "\n",
      "\n",
      "Question:  Explain the plot of movie Oppenheimer\n",
      "Answer:  The plot of the movie Oppenheimer revolves around the creation of the atomic bomb during World War II. It specifically focuses on J. Robert Oppenheimer, the scientist who led the Manhattan Project and played a crucial role in the success of the project. The film explores the challenges and consequences of developing such a powerful weapon.\n",
      "\n",
      "\n"
     ]
    }
   ],
   "source": [
    "print('---------------- Answer from Reader ----------------')\n",
    "ques = \"Who is Christopher Nolan?\"\n",
    "ans = qa_reader(ques, llm,reader_template,retriever)\n",
    "print('Question: ',ques)\n",
    "print('Answer: ',ans)\n",
    "print('\\n')\n",
    "\n",
    "ques = \"What are some of Nolan's best movies?\"\n",
    "ans = qa_reader(ques, llm,reader_template,retriever)\n",
    "print('Question: ',ques)\n",
    "print('Answer: ',ans)\n",
    "print('\\n')\n",
    "\n",
    "ques = \"What actors has he worked with?\"\n",
    "ans = qa_reader(ques, llm,reader_template,retriever)\n",
    "print('Question: ',ques)\n",
    "print('Answer: ',ans)\n",
    "print('\\n')\n",
    "\n",
    "ques = \"Explain the plot of movie Oppenheimer\"\n",
    "ans = qa_reader(ques, llm, reader_template,retriever)\n",
    "print('Question: ',ques)\n",
    "print('Answer: ',ans)\n",
    "print('\\n')\n"
   ]
  },
  {
   "cell_type": "markdown",
   "metadata": {},
   "source": [
    "## Failure cases"
   ]
  },
  {
   "cell_type": "code",
   "execution_count": 41,
   "metadata": {},
   "outputs": [
    {
     "name": "stdout",
     "output_type": "stream",
     "text": [
      "---------------- Answer from Reader ----------------\n",
      "Question:  What is the movie Dunkirk about?\n",
      "Answer:  The movie Dunkirk is about the evacuation of Allied troops from the beaches of Dunkirk during World War II. Germany had advanced into France, trapping the troops, and the movie depicts their struggle to escape under air and ground cover. It is a fact-based story that showcases emotionally satisfying spectacle and a talented ensemble cast.\n",
      "\n",
      "\n",
      "Question:  Who was the main actor in this movie?\n",
      "Answer:  The main actor in the movie \"Oppenheimer\" is Cillian Murphy, who plays the titular character, J. Robert Oppenheimer.\n",
      "\n",
      "\n",
      "Question:  Who is Christopher Nolan?\n",
      "Answer:  Christopher Nolan is a British film director and writer known for his noirish visual aesthetic and unconventional narratives. He gained recognition with his film \"Memento\" in 2000 and achieved further success with \"Batman Begins\" in 2005. Nolan's works often focus on realistic and gritty portrayals of characters and settings.\n",
      "\n",
      "\n",
      "Question:  What is his latest movie?\n",
      "Answer:  Sorry, I do not know this!\n",
      "\n",
      "\n",
      "Question:  How is he as a person?\n",
      "Answer:  According to the context, the person being referred to is Cillian Murphy. The context states that Cillian Murphy is \"great and nice.\"\n",
      "\n",
      "\n",
      "Question:  What was his first movie?\n",
      "Answer:  His first movie was \"Following\" (1998).\n",
      "\n",
      "\n"
     ]
    }
   ],
   "source": [
    "print('---------------- Answer from Reader ----------------')\n",
    "ques = \"What is the movie Dunkirk about?\"\n",
    "ans = qa_reader(ques, llm,reader_template,retriever)\n",
    "print('Question: ',ques)\n",
    "print('Answer: ',ans)\n",
    "print('\\n')\n",
    "\n",
    "\n",
    "ques = \"Who was the main actor in this movie?\"\n",
    "ans = qa_reader(ques, llm,reader_template,retriever)\n",
    "print('Question: ',ques)\n",
    "print('Answer: ',ans)\n",
    "print('\\n')\n",
    "\n",
    "ques = \"Who is Christopher Nolan?\"\n",
    "ans = qa_reader(ques, llm,reader_template,retriever)\n",
    "print('Question: ',ques)\n",
    "print('Answer: ',ans)\n",
    "print('\\n')\n",
    "\n",
    "ques = \"What is his latest movie?\"\n",
    "ans = qa_reader(ques, llm,reader_template,retriever)\n",
    "print('Question: ',ques)\n",
    "print('Answer: ',ans)\n",
    "print('\\n')\n",
    "\n",
    "ques = \"How is he as a person?\"\n",
    "ans = qa_reader(ques, llm, reader_template,retriever)\n",
    "print('Question: ',ques)\n",
    "print('Answer: ',ans)\n",
    "print('\\n')\n",
    "\n",
    "ques = \"What was his first movie?\"\n",
    "ans = qa_reader(ques, llm, reader_template,retriever)\n",
    "print('Question: ',ques)\n",
    "print('Answer: ',ans)\n",
    "print('\\n')\n",
    "\n"
   ]
  },
  {
   "cell_type": "code",
   "execution_count": null,
   "metadata": {},
   "outputs": [],
   "source": []
  }
 ],
 "metadata": {
  "kernelspec": {
   "display_name": "pal4ai",
   "language": "python",
   "name": "pal4ai"
  },
  "language_info": {
   "codemirror_mode": {
    "name": "ipython",
    "version": 3
   },
   "file_extension": ".py",
   "mimetype": "text/x-python",
   "name": "python",
   "nbconvert_exporter": "python",
   "pygments_lexer": "ipython3",
   "version": "3.11.4"
  }
 },
 "nbformat": 4,
 "nbformat_minor": 4
}
